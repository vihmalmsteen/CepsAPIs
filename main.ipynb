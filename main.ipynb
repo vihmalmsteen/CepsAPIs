{
 "cells": [
  {
   "cell_type": "code",
   "execution_count": 16,
   "id": "1315f9d3",
   "metadata": {},
   "outputs": [],
   "source": [
    "import os\n",
    "from datetime import datetime\n",
    "from src.python.classes.DBData import DBData\n",
    "from src.python.classes.CallsClass import CallsClass\n",
    "from duckdb import query"
   ]
  },
  {
   "cell_type": "code",
   "execution_count": 15,
   "id": "bf8661cd",
   "metadata": {},
   "outputs": [
    {
     "name": "stdout",
     "output_type": "stream",
     "text": [
      "Edições carregadas.\n"
     ]
    },
    {
     "data": {
      "application/vnd.microsoft.datawrangler.viewer.v0+json": {
       "columns": [
        {
         "name": "index",
         "rawType": "int64",
         "type": "integer"
        },
        {
         "name": "globalEvent",
         "rawType": "object",
         "type": "string"
        }
       ],
       "ref": "bbe4987e-6ad9-4a34-b9c7-5cf53769fd5b",
       "rows": [
        [
         "0",
         "10 Milhas"
        ],
        [
         "1",
         "10 Milhas - serviços"
        ]
       ],
       "shape": {
        "columns": 1,
        "rows": 2
       }
      },
      "text/html": [
       "<div>\n",
       "<style scoped>\n",
       "    .dataframe tbody tr th:only-of-type {\n",
       "        vertical-align: middle;\n",
       "    }\n",
       "\n",
       "    .dataframe tbody tr th {\n",
       "        vertical-align: top;\n",
       "    }\n",
       "\n",
       "    .dataframe thead th {\n",
       "        text-align: right;\n",
       "    }\n",
       "</style>\n",
       "<table border=\"1\" class=\"dataframe\">\n",
       "  <thead>\n",
       "    <tr style=\"text-align: right;\">\n",
       "      <th></th>\n",
       "      <th>globalEvent</th>\n",
       "    </tr>\n",
       "  </thead>\n",
       "  <tbody>\n",
       "    <tr>\n",
       "      <th>0</th>\n",
       "      <td>10 Milhas</td>\n",
       "    </tr>\n",
       "    <tr>\n",
       "      <th>1</th>\n",
       "      <td>10 Milhas - serviços</td>\n",
       "    </tr>\n",
       "  </tbody>\n",
       "</table>\n",
       "</div>"
      ],
      "text/plain": [
       "            globalEvent\n",
       "0             10 Milhas\n",
       "1  10 Milhas - serviços"
      ]
     },
     "execution_count": 15,
     "metadata": {},
     "output_type": "execute_result"
    }
   ],
   "source": [
    "# carregando edições para filtro em queries\n",
    "edicoes = DBData().ScrapDB(\n",
    "    query_or_list_editions=2,\n",
    "    edicao='10 Milhas'\n",
    ")\n",
    "edicoes"
   ]
  },
  {
   "cell_type": "code",
   "execution_count": 18,
   "id": "d8792815",
   "metadata": {},
   "outputs": [
    {
     "name": "stdout",
     "output_type": "stream",
     "text": [
      "\n",
      "consulting ceps...\n",
      "Total de registros carregados e exportados: 56604 ceps.\n",
      "\n",
      "consulting participants...\n",
      "Total de registros carregados e exportados: 57958 participants.\n",
      "Forms e participants carregados e exportados.\n"
     ]
    }
   ],
   "source": [
    "# consultando e exportando xlsx dos formulários e participantes p/ paths respectivos\n",
    "conn_query = DBData().ScrapDB(\n",
    "    query_or_list_editions=1,\n",
    "    edicao='Maratona do Rio 2025',\n",
    "    data_compra_ini='2022-05-01',\n",
    "    data_compra_fini='2026-05-31',\n",
    "    limit_max_rows=1000000,\n",
    "    total_rows_in_batches=2500\n",
    ")"
   ]
  },
  {
   "cell_type": "code",
   "execution_count": 20,
   "id": "157c4ffb",
   "metadata": {},
   "outputs": [
    {
     "name": "stdout",
     "output_type": "stream",
     "text": [
      "Arquivos encontrados:\n",
      " ['participants_results_10_Milhas.xlsx', 'participants_results_Desafio_da_Ponte.xlsx', 'participants_results_Maratona_do_Rio_2025.xlsx']\n",
      "Arquivo de participantes carregado.\n"
     ]
    }
   ],
   "source": [
    "# carregando xlsx de participantes em df\n",
    "participants = CallsClass().load_and_parse_participants()"
   ]
  },
  {
   "cell_type": "code",
   "execution_count": 21,
   "id": "9bae6d59",
   "metadata": {},
   "outputs": [
    {
     "name": "stdout",
     "output_type": "stream",
     "text": [
      "Arquivos encontrados:\n",
      " ['forms_results_10_Milhas.xlsx', 'forms_results_Desafio_da_Ponte.xlsx', 'forms_results_Maratona_do_Rio_2025.xlsx']\n",
      "\n",
      "Arquivo carregado. Parseando...\n",
      "+------------------------------+------------------+\n",
      "|                              | qtde (percent)   |\n",
      "|------------------------------+------------------|\n",
      "| total de ceps                | 56604 (100.00%)  |\n",
      "| ceps com underline           | 728 (1.29%)      |\n",
      "| ceps sem hifen               | 179 (0.32%)      |\n",
      "| ceps ok                      | 56587 (99.97%)   |\n",
      "| ceps com menos de 8 dígitos  | 4 (0.01%)        |\n",
      "| ceps com mais de 8 dígitos   | 13 (0.02%)       |\n",
      "| ceps com tratamento especial | 0 (0.00%)        |\n",
      "+------------------------------+------------------+\n",
      "Parseado com sucesso.\n"
     ]
    }
   ],
   "source": [
    "# carregando xlsx de formulários em df\n",
    "forms = CallsClass().load_and_parse_forms()"
   ]
  },
  {
   "cell_type": "code",
   "execution_count": 11,
   "id": "705ad0ee",
   "metadata": {},
   "outputs": [
    {
     "name": "stderr",
     "output_type": "stream",
     "text": [
      "\r100%|██████████| 129/129 [13:10<00:00,  5.72s/it]"
     ]
    },
    {
     "name": "stdout",
     "output_type": "stream",
     "text": [
      "ceps logs\n",
      "+------+-------+\n",
      "|   ok |   nok |\n",
      "|------+-------|\n",
      "|  127 |     2 |\n",
      "+------+-------+\n",
      "+---------------------+-----------------+-----------------+\n",
      "|   brasil api errors |   viacep errors |   apicep errors |\n",
      "|---------------------+-----------------+-----------------|\n",
      "|                   2 |               2 |               2 |\n",
      "+---------------------+-----------------+-----------------+\n"
     ]
    },
    {
     "name": "stderr",
     "output_type": "stream",
     "text": [
      "100%|██████████| 129/129 [13:15<00:00,  6.17s/it]\n"
     ]
    }
   ],
   "source": [
    "# Gets dos ceps no forms pela col 'parsed_ceps'. Do dict retornado, 'complete_api_df' contém os endereços.\n",
    "gets = CallsClass().triforce(\n",
    "    parsed_ceps_df=forms,\n",
    "    timeout=5\n",
    ")\n",
    "addresses_df = gets.get('complete_api_df')"
   ]
  },
  {
   "cell_type": "code",
   "execution_count": 12,
   "id": "4dc7ea7f",
   "metadata": {},
   "outputs": [
    {
     "data": {
      "application/vnd.microsoft.datawrangler.viewer.v0+json": {
       "columns": [
        {
         "name": "index",
         "rawType": "int64",
         "type": "integer"
        },
        {
         "name": "item_id",
         "rawType": "object",
         "type": "string"
        },
        {
         "name": "cep",
         "rawType": "object",
         "type": "string"
        },
        {
         "name": "state",
         "rawType": "object",
         "type": "string"
        },
        {
         "name": "city",
         "rawType": "object",
         "type": "string"
        },
        {
         "name": "neighborhood",
         "rawType": "object",
         "type": "string"
        },
        {
         "name": "street",
         "rawType": "object",
         "type": "string"
        },
        {
         "name": "service",
         "rawType": "object",
         "type": "string"
        }
       ],
       "ref": "f655f742-e121-46c6-bd91-047e4d22470a",
       "rows": [
        [
         "0",
         "482892",
         "25520731",
         "RJ",
         "São João de Meriti",
         "Vila Tiradentes",
         "Rua Laura Arruda",
         "open-cep"
        ],
        [
         "1",
         "482893",
         "25545190",
         "RJ",
         "São João de Meriti",
         "Éden",
         "Rua Irmãos Guinle",
         "open-cep"
        ],
        [
         "2",
         "482955",
         "25520640",
         "RJ",
         "São João de Meriti",
         "Centro",
         "Rua da Matriz",
         "open-cep"
        ],
        [
         "3",
         "482956",
         "25520640",
         "RJ",
         "São João de Meriti",
         "Centro",
         "Rua da Matriz",
         "open-cep"
        ],
        [
         "4",
         "482973",
         "25555120",
         "RJ",
         "São João de Meriti",
         "Jardim Meriti",
         "Rua Otávio Mangabeira",
         "open-cep"
        ]
       ],
       "shape": {
        "columns": 7,
        "rows": 5
       }
      },
      "text/html": [
       "<div>\n",
       "<style scoped>\n",
       "    .dataframe tbody tr th:only-of-type {\n",
       "        vertical-align: middle;\n",
       "    }\n",
       "\n",
       "    .dataframe tbody tr th {\n",
       "        vertical-align: top;\n",
       "    }\n",
       "\n",
       "    .dataframe thead th {\n",
       "        text-align: right;\n",
       "    }\n",
       "</style>\n",
       "<table border=\"1\" class=\"dataframe\">\n",
       "  <thead>\n",
       "    <tr style=\"text-align: right;\">\n",
       "      <th></th>\n",
       "      <th>item_id</th>\n",
       "      <th>cep</th>\n",
       "      <th>state</th>\n",
       "      <th>city</th>\n",
       "      <th>neighborhood</th>\n",
       "      <th>street</th>\n",
       "      <th>service</th>\n",
       "    </tr>\n",
       "  </thead>\n",
       "  <tbody>\n",
       "    <tr>\n",
       "      <th>0</th>\n",
       "      <td>482892</td>\n",
       "      <td>25520731</td>\n",
       "      <td>RJ</td>\n",
       "      <td>São João de Meriti</td>\n",
       "      <td>Vila Tiradentes</td>\n",
       "      <td>Rua Laura Arruda</td>\n",
       "      <td>open-cep</td>\n",
       "    </tr>\n",
       "    <tr>\n",
       "      <th>1</th>\n",
       "      <td>482893</td>\n",
       "      <td>25545190</td>\n",
       "      <td>RJ</td>\n",
       "      <td>São João de Meriti</td>\n",
       "      <td>Éden</td>\n",
       "      <td>Rua Irmãos Guinle</td>\n",
       "      <td>open-cep</td>\n",
       "    </tr>\n",
       "    <tr>\n",
       "      <th>2</th>\n",
       "      <td>482955</td>\n",
       "      <td>25520640</td>\n",
       "      <td>RJ</td>\n",
       "      <td>São João de Meriti</td>\n",
       "      <td>Centro</td>\n",
       "      <td>Rua da Matriz</td>\n",
       "      <td>open-cep</td>\n",
       "    </tr>\n",
       "    <tr>\n",
       "      <th>3</th>\n",
       "      <td>482956</td>\n",
       "      <td>25520640</td>\n",
       "      <td>RJ</td>\n",
       "      <td>São João de Meriti</td>\n",
       "      <td>Centro</td>\n",
       "      <td>Rua da Matriz</td>\n",
       "      <td>open-cep</td>\n",
       "    </tr>\n",
       "    <tr>\n",
       "      <th>4</th>\n",
       "      <td>482973</td>\n",
       "      <td>25555120</td>\n",
       "      <td>RJ</td>\n",
       "      <td>São João de Meriti</td>\n",
       "      <td>Jardim Meriti</td>\n",
       "      <td>Rua Otávio Mangabeira</td>\n",
       "      <td>open-cep</td>\n",
       "    </tr>\n",
       "  </tbody>\n",
       "</table>\n",
       "</div>"
      ],
      "text/plain": [
       "  item_id       cep state                city     neighborhood  \\\n",
       "0  482892  25520731    RJ  São João de Meriti  Vila Tiradentes   \n",
       "1  482893  25545190    RJ  São João de Meriti             Éden   \n",
       "2  482955  25520640    RJ  São João de Meriti           Centro   \n",
       "3  482956  25520640    RJ  São João de Meriti           Centro   \n",
       "4  482973  25555120    RJ  São João de Meriti    Jardim Meriti   \n",
       "\n",
       "                  street   service  \n",
       "0       Rua Laura Arruda  open-cep  \n",
       "1      Rua Irmãos Guinle  open-cep  \n",
       "2          Rua da Matriz  open-cep  \n",
       "3          Rua da Matriz  open-cep  \n",
       "4  Rua Otávio Mangabeira  open-cep  "
      ]
     },
     "execution_count": 12,
     "metadata": {},
     "output_type": "execute_result"
    }
   ],
   "source": [
    "# check\n",
    "addresses_df.head()"
   ]
  },
  {
   "cell_type": "code",
   "execution_count": 13,
   "id": "f8842f39",
   "metadata": {},
   "outputs": [],
   "source": [
    "# gerando df para export\n",
    "participants_and_addresses = query(\n",
    "    query='''\n",
    "    SELECT \n",
    "      participants.*\n",
    "    , addresses_df.cep as cep\n",
    "    , addresses_df.state as UF\n",
    "    , addresses_df.city as cidade\n",
    "    , addresses_df.neighborhood as bairro\n",
    "    , addresses_df.street as logradouro\n",
    "    FROM participants\n",
    "    LEFT JOIN addresses_df\n",
    "    ON participants.itemID = addresses_df.item_id\n",
    "    '''   \n",
    ").to_df()"
   ]
  },
  {
   "cell_type": "code",
   "execution_count": 14,
   "id": "dde54530",
   "metadata": {},
   "outputs": [
    {
     "name": "stdout",
     "output_type": "stream",
     "text": [
      "Arquivo 10_Milhas_20250820_1240.xlsx exportado.\n",
      "path: c:\\Users\\vitor\\Desktop\\CepsAPIs\\src\\datasets\\results\\10_Milhas_20250820_1240.xlsx\n"
     ]
    }
   ],
   "source": [
    "# exportando df resultante do evento para xlsx\n",
    "\n",
    "folder = os.path.join(os.getcwd(), 'src', 'datasets', 'results')\n",
    "os.makedirs(folder, exist_ok=True)\n",
    "\n",
    "edition = participants['edição'].unique()[0].replace(' ','_')\n",
    "current_time = datetime.now().strftime(\"%Y%m%d_%H%M\")\n",
    "\n",
    "result_df_path = os.path.join(folder, f'{edition}_{current_time}.xlsx')\n",
    "participants_and_addresses.to_excel(result_df_path, index=False)\n",
    "\n",
    "print(f'Arquivo {edition}_{current_time}.xlsx exportado.\\npath: {result_df_path}')"
   ]
  }
 ],
 "metadata": {
  "kernelspec": {
   "display_name": "pyceps",
   "language": "python",
   "name": "python3"
  },
  "language_info": {
   "codemirror_mode": {
    "name": "ipython",
    "version": 3
   },
   "file_extension": ".py",
   "mimetype": "text/x-python",
   "name": "python",
   "nbconvert_exporter": "python",
   "pygments_lexer": "ipython3",
   "version": "3.10.18"
  }
 },
 "nbformat": 4,
 "nbformat_minor": 5
}
