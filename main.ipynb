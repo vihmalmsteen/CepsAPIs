{
 "cells": [
  {
   "cell_type": "code",
   "execution_count": null,
   "id": "1315f9d3",
   "metadata": {},
   "outputs": [],
   "source": [
    "import os\n",
    "from datetime import datetime\n",
    "from src.python.classes.CallsClass import CallsClass\n",
    "from src.python.classes.DBData import DBData\n",
    "from duckdb import query"
   ]
  },
  {
   "cell_type": "code",
   "execution_count": 2,
   "id": "bf8661cd",
   "metadata": {},
   "outputs": [
    {
     "name": "stdout",
     "output_type": "stream",
     "text": [
      "Edições carregadas.\n"
     ]
    },
    {
     "data": {
      "application/vnd.microsoft.datawrangler.viewer.v0+json": {
       "columns": [
        {
         "name": "index",
         "rawType": "int64",
         "type": "integer"
        },
        {
         "name": "globalEvent",
         "rawType": "object",
         "type": "string"
        }
       ],
       "ref": "6cfa4f33-8b3f-4217-a015-5e9732770f93",
       "rows": [
        [
         "0",
         "Desafio da Ponte"
        ]
       ],
       "shape": {
        "columns": 1,
        "rows": 1
       }
      },
      "text/html": [
       "<div>\n",
       "<style scoped>\n",
       "    .dataframe tbody tr th:only-of-type {\n",
       "        vertical-align: middle;\n",
       "    }\n",
       "\n",
       "    .dataframe tbody tr th {\n",
       "        vertical-align: top;\n",
       "    }\n",
       "\n",
       "    .dataframe thead th {\n",
       "        text-align: right;\n",
       "    }\n",
       "</style>\n",
       "<table border=\"1\" class=\"dataframe\">\n",
       "  <thead>\n",
       "    <tr style=\"text-align: right;\">\n",
       "      <th></th>\n",
       "      <th>globalEvent</th>\n",
       "    </tr>\n",
       "  </thead>\n",
       "  <tbody>\n",
       "    <tr>\n",
       "      <th>0</th>\n",
       "      <td>Desafio da Ponte</td>\n",
       "    </tr>\n",
       "  </tbody>\n",
       "</table>\n",
       "</div>"
      ],
      "text/plain": [
       "        globalEvent\n",
       "0  Desafio da Ponte"
      ]
     },
     "execution_count": 2,
     "metadata": {},
     "output_type": "execute_result"
    }
   ],
   "source": [
    "# carregando edições para filtro em queries\n",
    "edicoes = DBData().ScrapDB(\n",
    "    query_or_list_editions=2,\n",
    "    edicao='Ponte'\n",
    ")\n",
    "edicoes"
   ]
  },
  {
   "cell_type": "code",
   "execution_count": 3,
   "id": "d8792815",
   "metadata": {},
   "outputs": [
    {
     "name": "stdout",
     "output_type": "stream",
     "text": [
      "\n",
      "consulting ceps...\n",
      "Total de registros carregados e exportados: 10 ceps.\n",
      "\n",
      "consulting participants...\n",
      "Total de registros carregados e exportados: 10 participants.\n",
      "Forms e participants carregados e exportados.\n"
     ]
    }
   ],
   "source": [
    "# consultando e exportando xlsx dos formulários e participantes p/ paths respectivos\n",
    "conn_query = DBData().ScrapDB(\n",
    "    query_or_list_editions=1,\n",
    "    edicao='Desafio da Ponte',\n",
    "    data_compra_ini='2022-05-01',\n",
    "    data_compra_fini='2026-05-31',\n",
    "    limit_max_rows=10,\n",
    "    total_rows_in_batches=1000000\n",
    ")"
   ]
  },
  {
   "cell_type": "code",
   "execution_count": 4,
   "id": "157c4ffb",
   "metadata": {},
   "outputs": [
    {
     "name": "stdout",
     "output_type": "stream",
     "text": [
      "Arquivos encontrados:\n",
      " ['participants_results_Desafio_da_Ponte.xlsx']\n",
      "Arquivo de participantes carregado.\n"
     ]
    }
   ],
   "source": [
    "# carregando xlsx de participantes em df\n",
    "participants = CallsClass().load_and_parse_participants()"
   ]
  },
  {
   "cell_type": "code",
   "execution_count": 5,
   "id": "9bae6d59",
   "metadata": {},
   "outputs": [
    {
     "name": "stdout",
     "output_type": "stream",
     "text": [
      "Arquivos encontrados:\n",
      " ['forms_results_Desafio_da_Ponte.xlsx']\n",
      "\n",
      "Arquivo carregado. Parseando...\n",
      "+------------------------------+------------------+\n",
      "|                              | qtde (percent)   |\n",
      "|------------------------------+------------------|\n",
      "| total de ceps                | 10 (100.00%)     |\n",
      "| ceps com underline           | 0 (0.00%)        |\n",
      "| ceps sem hifen               | 0 (0.00%)        |\n",
      "| ceps ok                      | 10 (100.00%)     |\n",
      "| ceps com menos de 8 dígitos  | 0 (0.00%)        |\n",
      "| ceps com mais de 8 dígitos   | 0 (0.00%)        |\n",
      "| ceps com tratamento especial | 0 (0.00%)        |\n",
      "+------------------------------+------------------+\n",
      "Parseado com sucesso.\n"
     ]
    }
   ],
   "source": [
    "# carregando xlsx de formulários em df\n",
    "forms = CallsClass().load_and_parse_forms()"
   ]
  },
  {
   "cell_type": "code",
   "execution_count": 6,
   "id": "705ad0ee",
   "metadata": {},
   "outputs": [
    {
     "name": "stderr",
     "output_type": "stream",
     "text": [
      "\r100%|██████████| 10/10 [00:46<00:00,  5.10s/it]"
     ]
    },
    {
     "name": "stdout",
     "output_type": "stream",
     "text": [
      "ceps logs\n",
      "+------+-------+\n",
      "|   ok |   nok |\n",
      "|------+-------|\n",
      "|   10 |     0 |\n",
      "+------+-------+\n",
      "+---------------------+-----------------+-----------------+\n",
      "|   brasil api errors |   viacep errors |   apicep errors |\n",
      "|---------------------+-----------------+-----------------|\n",
      "|                   0 |               0 |               0 |\n",
      "+---------------------+-----------------+-----------------+\n"
     ]
    },
    {
     "name": "stderr",
     "output_type": "stream",
     "text": [
      "100%|██████████| 10/10 [00:51<00:00,  5.16s/it]\n"
     ]
    }
   ],
   "source": [
    "# Gets dos ceps no forms pela col 'parsed_ceps'. Do dict retornado, 'complete_api_df' contém os endereços.\n",
    "gets = CallsClass().triforce(\n",
    "    parsed_ceps_df=forms,\n",
    "    timeout=5\n",
    ")\n",
    "addresses_df = gets.get('complete_api_df')"
   ]
  },
  {
   "cell_type": "code",
   "execution_count": 7,
   "id": "4dc7ea7f",
   "metadata": {},
   "outputs": [
    {
     "data": {
      "application/vnd.microsoft.datawrangler.viewer.v0+json": {
       "columns": [
        {
         "name": "index",
         "rawType": "int64",
         "type": "integer"
        },
        {
         "name": "item_id",
         "rawType": "object",
         "type": "string"
        },
        {
         "name": "cep",
         "rawType": "object",
         "type": "string"
        },
        {
         "name": "state",
         "rawType": "object",
         "type": "string"
        },
        {
         "name": "city",
         "rawType": "object",
         "type": "string"
        },
        {
         "name": "neighborhood",
         "rawType": "object",
         "type": "string"
        },
        {
         "name": "street",
         "rawType": "object",
         "type": "string"
        },
        {
         "name": "service",
         "rawType": "object",
         "type": "string"
        }
       ],
       "ref": "b5560a2e-bc25-4c1e-bab3-5968e2a4d4c1",
       "rows": [
        [
         "0",
         "451700",
         "22221090",
         "RJ",
         "Rio de Janeiro",
         "Laranjeiras",
         "Rua Paulo César de Andrade",
         "open-cep"
        ],
        [
         "1",
         "451701",
         "22030010",
         "RJ",
         "Rio de Janeiro",
         "Copacabana",
         "Rua Assis Brasil",
         "open-cep"
        ],
        [
         "2",
         "451702",
         "24220070",
         "RJ",
         "Niterói",
         "Icaraí",
         "Rua Lopes Trovão",
         "open-cep"
        ],
        [
         "3",
         "451703",
         "22610095",
         "RJ",
         "Rio de Janeiro",
         "São Conrado",
         "Avenida Prefeito Mendes de Morais",
         "open-cep"
        ],
        [
         "4",
         "451704",
         "20745312",
         "RJ",
         "Rio de Janeiro",
         "Água Santa",
         "Rua Dois de Fevereiro",
         "open-cep"
        ]
       ],
       "shape": {
        "columns": 7,
        "rows": 5
       }
      },
      "text/html": [
       "<div>\n",
       "<style scoped>\n",
       "    .dataframe tbody tr th:only-of-type {\n",
       "        vertical-align: middle;\n",
       "    }\n",
       "\n",
       "    .dataframe tbody tr th {\n",
       "        vertical-align: top;\n",
       "    }\n",
       "\n",
       "    .dataframe thead th {\n",
       "        text-align: right;\n",
       "    }\n",
       "</style>\n",
       "<table border=\"1\" class=\"dataframe\">\n",
       "  <thead>\n",
       "    <tr style=\"text-align: right;\">\n",
       "      <th></th>\n",
       "      <th>item_id</th>\n",
       "      <th>cep</th>\n",
       "      <th>state</th>\n",
       "      <th>city</th>\n",
       "      <th>neighborhood</th>\n",
       "      <th>street</th>\n",
       "      <th>service</th>\n",
       "    </tr>\n",
       "  </thead>\n",
       "  <tbody>\n",
       "    <tr>\n",
       "      <th>0</th>\n",
       "      <td>451700</td>\n",
       "      <td>22221090</td>\n",
       "      <td>RJ</td>\n",
       "      <td>Rio de Janeiro</td>\n",
       "      <td>Laranjeiras</td>\n",
       "      <td>Rua Paulo César de Andrade</td>\n",
       "      <td>open-cep</td>\n",
       "    </tr>\n",
       "    <tr>\n",
       "      <th>1</th>\n",
       "      <td>451701</td>\n",
       "      <td>22030010</td>\n",
       "      <td>RJ</td>\n",
       "      <td>Rio de Janeiro</td>\n",
       "      <td>Copacabana</td>\n",
       "      <td>Rua Assis Brasil</td>\n",
       "      <td>open-cep</td>\n",
       "    </tr>\n",
       "    <tr>\n",
       "      <th>2</th>\n",
       "      <td>451702</td>\n",
       "      <td>24220070</td>\n",
       "      <td>RJ</td>\n",
       "      <td>Niterói</td>\n",
       "      <td>Icaraí</td>\n",
       "      <td>Rua Lopes Trovão</td>\n",
       "      <td>open-cep</td>\n",
       "    </tr>\n",
       "    <tr>\n",
       "      <th>3</th>\n",
       "      <td>451703</td>\n",
       "      <td>22610095</td>\n",
       "      <td>RJ</td>\n",
       "      <td>Rio de Janeiro</td>\n",
       "      <td>São Conrado</td>\n",
       "      <td>Avenida Prefeito Mendes de Morais</td>\n",
       "      <td>open-cep</td>\n",
       "    </tr>\n",
       "    <tr>\n",
       "      <th>4</th>\n",
       "      <td>451704</td>\n",
       "      <td>20745312</td>\n",
       "      <td>RJ</td>\n",
       "      <td>Rio de Janeiro</td>\n",
       "      <td>Água Santa</td>\n",
       "      <td>Rua Dois de Fevereiro</td>\n",
       "      <td>open-cep</td>\n",
       "    </tr>\n",
       "  </tbody>\n",
       "</table>\n",
       "</div>"
      ],
      "text/plain": [
       "  item_id       cep state            city neighborhood  \\\n",
       "0  451700  22221090    RJ  Rio de Janeiro  Laranjeiras   \n",
       "1  451701  22030010    RJ  Rio de Janeiro   Copacabana   \n",
       "2  451702  24220070    RJ         Niterói       Icaraí   \n",
       "3  451703  22610095    RJ  Rio de Janeiro  São Conrado   \n",
       "4  451704  20745312    RJ  Rio de Janeiro   Água Santa   \n",
       "\n",
       "                              street   service  \n",
       "0         Rua Paulo César de Andrade  open-cep  \n",
       "1                   Rua Assis Brasil  open-cep  \n",
       "2                   Rua Lopes Trovão  open-cep  \n",
       "3  Avenida Prefeito Mendes de Morais  open-cep  \n",
       "4              Rua Dois de Fevereiro  open-cep  "
      ]
     },
     "execution_count": 7,
     "metadata": {},
     "output_type": "execute_result"
    }
   ],
   "source": [
    "# check\n",
    "addresses_df.head()"
   ]
  },
  {
   "cell_type": "code",
   "execution_count": 8,
   "id": "f8842f39",
   "metadata": {},
   "outputs": [],
   "source": [
    "# gerando df para export\n",
    "participants_and_addresses = query(\n",
    "    query='''\n",
    "    SELECT \n",
    "      participants.*\n",
    "    , addresses_df.cep as cep\n",
    "    , addresses_df.state as UF\n",
    "    , addresses_df.city as cidade\n",
    "    , addresses_df.neighborhood as bairro\n",
    "    , addresses_df.street as logradouro\n",
    "    FROM participants\n",
    "    LEFT JOIN addresses_df\n",
    "    ON participants.itemID = addresses_df.item_id\n",
    "    '''   \n",
    ").to_df()"
   ]
  },
  {
   "cell_type": "code",
   "execution_count": 9,
   "id": "dde54530",
   "metadata": {},
   "outputs": [
    {
     "name": "stdout",
     "output_type": "stream",
     "text": [
      "Arquivo Desafio_da_Ponte_20250806_0043.xlsx exportado.\n",
      "path: c:\\Users\\vitor\\Desktop\\ceps\\src\\datasets\\results\\Desafio_da_Ponte_20250806_0043.xlsx\n"
     ]
    }
   ],
   "source": [
    "# exportando df resultante do evento para xlsx\n",
    "\n",
    "folder = os.path.join(os.getcwd(), 'src', 'datasets', 'results')\n",
    "os.makedirs(folder, exist_ok=True)\n",
    "\n",
    "edition = participants['edição'].unique()[0].replace(' ','_')\n",
    "current_time = datetime.now().strftime(\"%Y%m%d_%H%M\")\n",
    "\n",
    "result_df_path = os.path.join(folder, f'{edition}_{current_time}.xlsx')\n",
    "participants_and_addresses.to_excel(result_df_path, index=False)\n",
    "\n",
    "print(f'Arquivo {edition}_{current_time}.xlsx exportado.\\npath: {result_df_path}')"
   ]
  }
 ],
 "metadata": {
  "kernelspec": {
   "display_name": "ceps",
   "language": "python",
   "name": "python3"
  },
  "language_info": {
   "codemirror_mode": {
    "name": "ipython",
    "version": 3
   },
   "file_extension": ".py",
   "mimetype": "text/x-python",
   "name": "python",
   "nbconvert_exporter": "python",
   "pygments_lexer": "ipython3",
   "version": "3.10.18"
  }
 },
 "nbformat": 4,
 "nbformat_minor": 5
}
