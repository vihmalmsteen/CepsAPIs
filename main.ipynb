{
 "cells": [
  {
   "cell_type": "code",
   "execution_count": 1,
   "id": "1315f9d3",
   "metadata": {},
   "outputs": [],
   "source": [
    "import os\n",
    "from datetime import datetime\n",
    "from src.python.classes.DBData import DBData\n",
    "from src.python.classes.CallsClass import CallsClass\n",
    "from duckdb import query"
   ]
  },
  {
   "cell_type": "code",
   "execution_count": 2,
   "id": "bf8661cd",
   "metadata": {},
   "outputs": [
    {
     "name": "stdout",
     "output_type": "stream",
     "text": [
      "Edições carregadas.\n"
     ]
    },
    {
     "data": {
      "application/vnd.microsoft.datawrangler.viewer.v0+json": {
       "columns": [
        {
         "name": "index",
         "rawType": "int64",
         "type": "integer"
        },
        {
         "name": "globalEvent",
         "rawType": "object",
         "type": "string"
        }
       ],
       "ref": "5fd2098b-541e-4ef0-868e-8607325567ee",
       "rows": [
        [
         "0",
         "Desafio da Ponte"
        ]
       ],
       "shape": {
        "columns": 1,
        "rows": 1
       }
      },
      "text/html": [
       "<div>\n",
       "<style scoped>\n",
       "    .dataframe tbody tr th:only-of-type {\n",
       "        vertical-align: middle;\n",
       "    }\n",
       "\n",
       "    .dataframe tbody tr th {\n",
       "        vertical-align: top;\n",
       "    }\n",
       "\n",
       "    .dataframe thead th {\n",
       "        text-align: right;\n",
       "    }\n",
       "</style>\n",
       "<table border=\"1\" class=\"dataframe\">\n",
       "  <thead>\n",
       "    <tr style=\"text-align: right;\">\n",
       "      <th></th>\n",
       "      <th>globalEvent</th>\n",
       "    </tr>\n",
       "  </thead>\n",
       "  <tbody>\n",
       "    <tr>\n",
       "      <th>0</th>\n",
       "      <td>Desafio da Ponte</td>\n",
       "    </tr>\n",
       "  </tbody>\n",
       "</table>\n",
       "</div>"
      ],
      "text/plain": [
       "        globalEvent\n",
       "0  Desafio da Ponte"
      ]
     },
     "execution_count": 2,
     "metadata": {},
     "output_type": "execute_result"
    }
   ],
   "source": [
    "# carregando edições para filtro em queries\n",
    "edicoes = DBData().ScrapDB(\n",
    "    query_or_list_editions=2,\n",
    "    edicao='Ponte'\n",
    ")\n",
    "edicoes"
   ]
  },
  {
   "cell_type": "code",
   "execution_count": 3,
   "id": "d8792815",
   "metadata": {},
   "outputs": [
    {
     "name": "stdout",
     "output_type": "stream",
     "text": [
      "\n",
      "consulting ceps...\n",
      "Total de registros carregados e exportados: 4547 ceps.\n",
      "\n",
      "consulting participants...\n",
      "Total de registros carregados e exportados: 4547 participants.\n",
      "Forms e participants carregados e exportados.\n"
     ]
    }
   ],
   "source": [
    "# consultando e exportando xlsx dos formulários e participantes p/ paths respectivos\n",
    "conn_query = DBData().ScrapDB(\n",
    "    query_or_list_editions=1,\n",
    "    edicao='Desafio da Ponte',\n",
    "    data_compra_ini='2022-05-01',\n",
    "    data_compra_fini='2026-05-31',\n",
    "    limit_max_rows=1000000,\n",
    "    total_rows_in_batches=1000000\n",
    ")"
   ]
  },
  {
   "cell_type": "code",
   "execution_count": 4,
   "id": "157c4ffb",
   "metadata": {},
   "outputs": [
    {
     "name": "stdout",
     "output_type": "stream",
     "text": [
      "Arquivos encontrados:\n",
      " ['participants_results_Desafio_da_Ponte.xlsx']\n",
      "Arquivo de participantes carregado.\n"
     ]
    }
   ],
   "source": [
    "# carregando xlsx de participantes em df\n",
    "participants = CallsClass().load_and_parse_participants()"
   ]
  },
  {
   "cell_type": "code",
   "execution_count": 5,
   "id": "9bae6d59",
   "metadata": {},
   "outputs": [
    {
     "name": "stdout",
     "output_type": "stream",
     "text": [
      "Arquivos encontrados:\n",
      " ['forms_results_Desafio_da_Ponte.xlsx']\n",
      "\n",
      "Arquivo carregado. Parseando...\n",
      "+------------------------------+------------------+\n",
      "|                              | qtde (percent)   |\n",
      "|------------------------------+------------------|\n",
      "| total de ceps                | 4547 (100.00%)   |\n",
      "| ceps com underline           | 20 (0.44%)       |\n",
      "| ceps sem hifen               | 18 (0.40%)       |\n",
      "| ceps ok                      | 4547 (100.00%)   |\n",
      "| ceps com menos de 8 dígitos  | 0 (0.00%)        |\n",
      "| ceps com mais de 8 dígitos   | 0 (0.00%)        |\n",
      "| ceps com tratamento especial | 0 (0.00%)        |\n",
      "+------------------------------+------------------+\n",
      "Parseado com sucesso.\n"
     ]
    }
   ],
   "source": [
    "# carregando xlsx de formulários em df\n",
    "forms = CallsClass().load_and_parse_forms()"
   ]
  },
  {
   "cell_type": "code",
   "execution_count": 7,
   "id": "705ad0ee",
   "metadata": {},
   "outputs": [
    {
     "name": "stderr",
     "output_type": "stream",
     "text": [
      "\r100%|██████████| 10/10 [01:04<00:00,  7.28s/it]"
     ]
    },
    {
     "name": "stdout",
     "output_type": "stream",
     "text": [
      "+------+-------+\n",
      "|   ok |   nok |\n",
      "|------+-------|\n",
      "|    6 |     4 |\n",
      "+------+-------+\n",
      "+---------------------+-----------------+-----------------+\n",
      "|   brasil api errors |   viacep errors |   apicep errors |\n",
      "|---------------------+-----------------+-----------------|\n",
      "|                   4 |               4 |               4 |\n",
      "+---------------------+-----------------+-----------------+\n"
     ]
    },
    {
     "name": "stderr",
     "output_type": "stream",
     "text": [
      "100%|██████████| 10/10 [01:09<00:00,  6.93s/it]\n"
     ]
    }
   ],
   "source": [
    "# Gets dos ceps no forms pela col 'parsed_ceps'. Do dict retornado, 'complete_api_df' contém os endereços.\n",
    "gets = CallsClass().triforce(\n",
    "    parsed_ceps_df=forms,\n",
    "    timeout=5\n",
    ")\n",
    "addresses_df = gets.get('complete_api_df')"
   ]
  },
  {
   "cell_type": "code",
   "execution_count": 8,
   "id": "4dc7ea7f",
   "metadata": {},
   "outputs": [
    {
     "data": {
      "application/vnd.microsoft.datawrangler.viewer.v0+json": {
       "columns": [
        {
         "name": "index",
         "rawType": "int64",
         "type": "integer"
        },
        {
         "name": "item_id",
         "rawType": "object",
         "type": "string"
        },
        {
         "name": "cep",
         "rawType": "object",
         "type": "string"
        },
        {
         "name": "state",
         "rawType": "object",
         "type": "string"
        },
        {
         "name": "city",
         "rawType": "object",
         "type": "string"
        },
        {
         "name": "neighborhood",
         "rawType": "object",
         "type": "string"
        },
        {
         "name": "street",
         "rawType": "object",
         "type": "string"
        },
        {
         "name": "service",
         "rawType": "object",
         "type": "string"
        }
       ],
       "ref": "62beab45-f1a9-4ad1-bbfc-1dce0a01f2c4",
       "rows": [
        [
         "0",
         "451708",
         "22441140",
         "RJ",
         "Rio de Janeiro",
         "Leblon",
         "Rua General Artigas",
         "open-cep"
        ],
        [
         "1",
         "451711",
         "28895242",
         "RJ",
         "Rio das Ostras",
         "Costazul",
         "Rua Prefeito Wilson de Barros Vieira",
         "open-cep"
        ],
        [
         "2",
         "451712",
         "22471003",
         "RJ",
         "Rio de Janeiro",
         "Lagoa",
         "Avenida Epitácio Pessoa",
         "open-cep"
        ],
        [
         "3",
         "451713",
         "22725031",
         "RJ",
         "Rio de Janeiro",
         "Taquara",
         "Estrada do Cafundá",
         "open-cep"
        ],
        [
         "4",
         "451715",
         "22431002",
         "RJ",
         "Rio de Janeiro",
         "Leblon",
         "Avenida Bartolomeu Mitre",
         "open-cep"
        ]
       ],
       "shape": {
        "columns": 7,
        "rows": 5
       }
      },
      "text/html": [
       "<div>\n",
       "<style scoped>\n",
       "    .dataframe tbody tr th:only-of-type {\n",
       "        vertical-align: middle;\n",
       "    }\n",
       "\n",
       "    .dataframe tbody tr th {\n",
       "        vertical-align: top;\n",
       "    }\n",
       "\n",
       "    .dataframe thead th {\n",
       "        text-align: right;\n",
       "    }\n",
       "</style>\n",
       "<table border=\"1\" class=\"dataframe\">\n",
       "  <thead>\n",
       "    <tr style=\"text-align: right;\">\n",
       "      <th></th>\n",
       "      <th>item_id</th>\n",
       "      <th>cep</th>\n",
       "      <th>state</th>\n",
       "      <th>city</th>\n",
       "      <th>neighborhood</th>\n",
       "      <th>street</th>\n",
       "      <th>service</th>\n",
       "    </tr>\n",
       "  </thead>\n",
       "  <tbody>\n",
       "    <tr>\n",
       "      <th>0</th>\n",
       "      <td>451708</td>\n",
       "      <td>22441140</td>\n",
       "      <td>RJ</td>\n",
       "      <td>Rio de Janeiro</td>\n",
       "      <td>Leblon</td>\n",
       "      <td>Rua General Artigas</td>\n",
       "      <td>open-cep</td>\n",
       "    </tr>\n",
       "    <tr>\n",
       "      <th>1</th>\n",
       "      <td>451711</td>\n",
       "      <td>28895242</td>\n",
       "      <td>RJ</td>\n",
       "      <td>Rio das Ostras</td>\n",
       "      <td>Costazul</td>\n",
       "      <td>Rua Prefeito Wilson de Barros Vieira</td>\n",
       "      <td>open-cep</td>\n",
       "    </tr>\n",
       "    <tr>\n",
       "      <th>2</th>\n",
       "      <td>451712</td>\n",
       "      <td>22471003</td>\n",
       "      <td>RJ</td>\n",
       "      <td>Rio de Janeiro</td>\n",
       "      <td>Lagoa</td>\n",
       "      <td>Avenida Epitácio Pessoa</td>\n",
       "      <td>open-cep</td>\n",
       "    </tr>\n",
       "    <tr>\n",
       "      <th>3</th>\n",
       "      <td>451713</td>\n",
       "      <td>22725031</td>\n",
       "      <td>RJ</td>\n",
       "      <td>Rio de Janeiro</td>\n",
       "      <td>Taquara</td>\n",
       "      <td>Estrada do Cafundá</td>\n",
       "      <td>open-cep</td>\n",
       "    </tr>\n",
       "    <tr>\n",
       "      <th>4</th>\n",
       "      <td>451715</td>\n",
       "      <td>22431002</td>\n",
       "      <td>RJ</td>\n",
       "      <td>Rio de Janeiro</td>\n",
       "      <td>Leblon</td>\n",
       "      <td>Avenida Bartolomeu Mitre</td>\n",
       "      <td>open-cep</td>\n",
       "    </tr>\n",
       "  </tbody>\n",
       "</table>\n",
       "</div>"
      ],
      "text/plain": [
       "  item_id       cep state            city neighborhood  \\\n",
       "0  451708  22441140    RJ  Rio de Janeiro       Leblon   \n",
       "1  451711  28895242    RJ  Rio das Ostras     Costazul   \n",
       "2  451712  22471003    RJ  Rio de Janeiro        Lagoa   \n",
       "3  451713  22725031    RJ  Rio de Janeiro      Taquara   \n",
       "4  451715  22431002    RJ  Rio de Janeiro       Leblon   \n",
       "\n",
       "                                 street   service  \n",
       "0                   Rua General Artigas  open-cep  \n",
       "1  Rua Prefeito Wilson de Barros Vieira  open-cep  \n",
       "2               Avenida Epitácio Pessoa  open-cep  \n",
       "3                    Estrada do Cafundá  open-cep  \n",
       "4              Avenida Bartolomeu Mitre  open-cep  "
      ]
     },
     "execution_count": 8,
     "metadata": {},
     "output_type": "execute_result"
    }
   ],
   "source": [
    "# check\n",
    "addresses_df.head()"
   ]
  },
  {
   "cell_type": "code",
   "execution_count": 8,
   "id": "f8842f39",
   "metadata": {},
   "outputs": [],
   "source": [
    "# gerando df para export\n",
    "participants_and_addresses = query(\n",
    "    query='''\n",
    "    SELECT \n",
    "      participants.*\n",
    "    , addresses_df.cep as cep\n",
    "    , addresses_df.state as UF\n",
    "    , addresses_df.city as cidade\n",
    "    , addresses_df.neighborhood as bairro\n",
    "    , addresses_df.street as logradouro\n",
    "    FROM participants\n",
    "    LEFT JOIN addresses_df\n",
    "    ON participants.itemID = addresses_df.item_id\n",
    "    '''   \n",
    ").to_df()"
   ]
  },
  {
   "cell_type": "code",
   "execution_count": 9,
   "id": "dde54530",
   "metadata": {},
   "outputs": [
    {
     "name": "stdout",
     "output_type": "stream",
     "text": [
      "Arquivo Desafio_da_Ponte_20250806_0043.xlsx exportado.\n",
      "path: c:\\Users\\vitor\\Desktop\\ceps\\src\\datasets\\results\\Desafio_da_Ponte_20250806_0043.xlsx\n"
     ]
    }
   ],
   "source": [
    "# exportando df resultante do evento para xlsx\n",
    "\n",
    "folder = os.path.join(os.getcwd(), 'src', 'datasets', 'results')\n",
    "os.makedirs(folder, exist_ok=True)\n",
    "\n",
    "edition = participants['edição'].unique()[0].replace(' ','_')\n",
    "current_time = datetime.now().strftime(\"%Y%m%d_%H%M\")\n",
    "\n",
    "result_df_path = os.path.join(folder, f'{edition}_{current_time}.xlsx')\n",
    "participants_and_addresses.to_excel(result_df_path, index=False)\n",
    "\n",
    "print(f'Arquivo {edition}_{current_time}.xlsx exportado.\\npath: {result_df_path}')"
   ]
  }
 ],
 "metadata": {
  "kernelspec": {
   "display_name": "pyceps",
   "language": "python",
   "name": "python3"
  },
  "language_info": {
   "codemirror_mode": {
    "name": "ipython",
    "version": 3
   },
   "file_extension": ".py",
   "mimetype": "text/x-python",
   "name": "python",
   "nbconvert_exporter": "python",
   "pygments_lexer": "ipython3",
   "version": "3.10.18"
  }
 },
 "nbformat": 4,
 "nbformat_minor": 5
}
