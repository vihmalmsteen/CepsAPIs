{
 "cells": [
  {
   "cell_type": "code",
   "execution_count": 1,
   "id": "1315f9d3",
   "metadata": {},
   "outputs": [],
   "source": [
    "import pandas as pd\n",
    "import os\n",
    "from src.python.classes.CallsClass import CallsClass\n",
    "import requests\n",
    "from pprint import pprint\n",
    "from tqdm import tqdm\n",
    "from time import sleep\n",
    "from IPython.display import clear_output\n",
    "from tabulate import tabulate\n",
    "import inspect"
   ]
  },
  {
   "cell_type": "code",
   "execution_count": 2,
   "id": "8c63d43b",
   "metadata": {},
   "outputs": [
    {
     "name": "stdout",
     "output_type": "stream",
     "text": [
      "Arquivos encontrados:\n",
      " ['forms_results_desafio_da_ponte.xlsx']\n",
      "\n",
      "Arquivo carregado. Parseando...\n",
      "+------------------------------+------------------+\n",
      "|                              | qtde (percent)   |\n",
      "|------------------------------+------------------|\n",
      "| total de ceps                | 4539 (100.00%)   |\n",
      "| ceps com underline           | 20 (0.44%)       |\n",
      "| ceps sem hifen               | 18 (0.40%)       |\n",
      "| ceps ok                      | 4539 (100.00%)   |\n",
      "| ceps com menos de 8 dígitos  | 0 (0.00%)        |\n",
      "| ceps com mais de 8 dígitos   | 0 (0.00%)        |\n",
      "| ceps com tratamento especial | 0 (0.00%)        |\n",
      "+------------------------------+------------------+\n",
      "Parseado com sucesso.\n"
     ]
    }
   ],
   "source": [
    "callings = CallsClass()\n",
    "df = callings.load_and_parse_forms()\n",
    "df_teste = df.head(5)"
   ]
  },
  {
   "cell_type": "markdown",
   "id": "83a35141",
   "metadata": {},
   "source": [
    "# aqui"
   ]
  },
  {
   "cell_type": "code",
   "execution_count": 3,
   "id": "e36a8464",
   "metadata": {},
   "outputs": [
    {
     "name": "stderr",
     "output_type": "stream",
     "text": [
      "\r100%|██████████| 5/5 [00:09<00:00,  2.09s/it]"
     ]
    },
    {
     "name": "stdout",
     "output_type": "stream",
     "text": [
      "num_iteration: 4\n",
      "+------+-------+\n",
      "|   ok |   nok |\n",
      "|------+-------|\n",
      "|    5 |     0 |\n",
      "+------+-------+\n"
     ]
    },
    {
     "name": "stderr",
     "output_type": "stream",
     "text": [
      "100%|██████████| 5/5 [00:11<00:00,  2.28s/it]\n"
     ]
    }
   ],
   "source": [
    "gets_dict = callings.brasilapi_one(df_teste)"
   ]
  },
  {
   "cell_type": "code",
   "execution_count": 4,
   "id": "4977a5ff",
   "metadata": {},
   "outputs": [
    {
     "data": {
      "application/vnd.microsoft.datawrangler.viewer.v0+json": {
       "columns": [
        {
         "name": "index",
         "rawType": "int64",
         "type": "integer"
        },
        {
         "name": "cep",
         "rawType": "object",
         "type": "string"
        },
        {
         "name": "state",
         "rawType": "object",
         "type": "string"
        },
        {
         "name": "city",
         "rawType": "object",
         "type": "string"
        },
        {
         "name": "neighborhood",
         "rawType": "object",
         "type": "string"
        },
        {
         "name": "street",
         "rawType": "object",
         "type": "string"
        },
        {
         "name": "service",
         "rawType": "object",
         "type": "string"
        }
       ],
       "ref": "fd73d86b-6eff-4a8d-a651-81cd0b499d0a",
       "rows": [
        [
         "0",
         "22221090",
         "RJ",
         "Rio de Janeiro",
         "Laranjeiras",
         "Rua Paulo César de Andrade",
         "open-cep"
        ],
        [
         "1",
         "22030010",
         "RJ",
         "Rio de Janeiro",
         "Copacabana",
         "Rua Assis Brasil",
         "open-cep"
        ],
        [
         "2",
         "24220070",
         "RJ",
         "Niterói",
         "Icaraí",
         "Rua Lopes Trovão",
         "open-cep"
        ],
        [
         "3",
         "22610095",
         "RJ",
         "Rio de Janeiro",
         "São Conrado",
         "Avenida Prefeito Mendes de Morais",
         "open-cep"
        ],
        [
         "4",
         "20745312",
         "RJ",
         "Rio de Janeiro",
         "Água Santa",
         "Rua Dois de Fevereiro",
         "open-cep"
        ]
       ],
       "shape": {
        "columns": 6,
        "rows": 5
       }
      },
      "text/html": [
       "<div>\n",
       "<style scoped>\n",
       "    .dataframe tbody tr th:only-of-type {\n",
       "        vertical-align: middle;\n",
       "    }\n",
       "\n",
       "    .dataframe tbody tr th {\n",
       "        vertical-align: top;\n",
       "    }\n",
       "\n",
       "    .dataframe thead th {\n",
       "        text-align: right;\n",
       "    }\n",
       "</style>\n",
       "<table border=\"1\" class=\"dataframe\">\n",
       "  <thead>\n",
       "    <tr style=\"text-align: right;\">\n",
       "      <th></th>\n",
       "      <th>cep</th>\n",
       "      <th>state</th>\n",
       "      <th>city</th>\n",
       "      <th>neighborhood</th>\n",
       "      <th>street</th>\n",
       "      <th>service</th>\n",
       "    </tr>\n",
       "  </thead>\n",
       "  <tbody>\n",
       "    <tr>\n",
       "      <th>0</th>\n",
       "      <td>22221090</td>\n",
       "      <td>RJ</td>\n",
       "      <td>Rio de Janeiro</td>\n",
       "      <td>Laranjeiras</td>\n",
       "      <td>Rua Paulo César de Andrade</td>\n",
       "      <td>open-cep</td>\n",
       "    </tr>\n",
       "    <tr>\n",
       "      <th>1</th>\n",
       "      <td>22030010</td>\n",
       "      <td>RJ</td>\n",
       "      <td>Rio de Janeiro</td>\n",
       "      <td>Copacabana</td>\n",
       "      <td>Rua Assis Brasil</td>\n",
       "      <td>open-cep</td>\n",
       "    </tr>\n",
       "    <tr>\n",
       "      <th>2</th>\n",
       "      <td>24220070</td>\n",
       "      <td>RJ</td>\n",
       "      <td>Niterói</td>\n",
       "      <td>Icaraí</td>\n",
       "      <td>Rua Lopes Trovão</td>\n",
       "      <td>open-cep</td>\n",
       "    </tr>\n",
       "    <tr>\n",
       "      <th>3</th>\n",
       "      <td>22610095</td>\n",
       "      <td>RJ</td>\n",
       "      <td>Rio de Janeiro</td>\n",
       "      <td>São Conrado</td>\n",
       "      <td>Avenida Prefeito Mendes de Morais</td>\n",
       "      <td>open-cep</td>\n",
       "    </tr>\n",
       "    <tr>\n",
       "      <th>4</th>\n",
       "      <td>20745312</td>\n",
       "      <td>RJ</td>\n",
       "      <td>Rio de Janeiro</td>\n",
       "      <td>Água Santa</td>\n",
       "      <td>Rua Dois de Fevereiro</td>\n",
       "      <td>open-cep</td>\n",
       "    </tr>\n",
       "  </tbody>\n",
       "</table>\n",
       "</div>"
      ],
      "text/plain": [
       "        cep state            city neighborhood  \\\n",
       "0  22221090    RJ  Rio de Janeiro  Laranjeiras   \n",
       "1  22030010    RJ  Rio de Janeiro   Copacabana   \n",
       "2  24220070    RJ         Niterói       Icaraí   \n",
       "3  22610095    RJ  Rio de Janeiro  São Conrado   \n",
       "4  20745312    RJ  Rio de Janeiro   Água Santa   \n",
       "\n",
       "                              street   service  \n",
       "0         Rua Paulo César de Andrade  open-cep  \n",
       "1                   Rua Assis Brasil  open-cep  \n",
       "2                   Rua Lopes Trovão  open-cep  \n",
       "3  Avenida Prefeito Mendes de Morais  open-cep  \n",
       "4              Rua Dois de Fevereiro  open-cep  "
      ]
     },
     "execution_count": 4,
     "metadata": {},
     "output_type": "execute_result"
    }
   ],
   "source": [
    "gets_dict.get('brasilapi1_df')\n",
    "# gets_dict.get('brasilapi1_df_logs')"
   ]
  },
  {
   "cell_type": "code",
   "execution_count": null,
   "id": "65db9179",
   "metadata": {},
   "outputs": [],
   "source": [
    "cep = '2-279352'\n"
   ]
  },
  {
   "cell_type": "code",
   "execution_count": 44,
   "id": "e29beea1",
   "metadata": {},
   "outputs": [
    {
     "data": {
      "text/plain": [
       "{'cep': '22793520',\n",
       " 'state': 'RJ',\n",
       " 'city': 'Rio de Janeiro',\n",
       " 'neighborhood': 'Barra da Tijuca',\n",
       " 'street': 'Rua Ataulpho Coutinho',\n",
       " 'service': 'open-cep',\n",
       " 'location': {'type': 'Point',\n",
       "  'coordinates': {'longitude': '-43.3773358', 'latitude': '-23.0040166'}}}"
      ]
     },
     "execution_count": 44,
     "metadata": {},
     "output_type": "execute_result"
    }
   ],
   "source": [
    "cep = '22793-520'\n",
    "get_cep = requests.get(f'https://brasilapi.com.br/api/cep/v2/{cep}').json()\n",
    "get_cep"
   ]
  },
  {
   "cell_type": "code",
   "execution_count": 79,
   "id": "0e701a2c",
   "metadata": {},
   "outputs": [
    {
     "name": "stdout",
     "output_type": "stream",
     "text": [
      "2279-3520\n",
      "2-279352\n",
      "2279-3520\n"
     ]
    }
   ],
   "source": [
    "# brasilapi v1\n",
    "\n",
    "\n",
    "df_test = pd.DataFrame({\n",
    "    'parsed_ceps': ['2279-3520', '2-279352', '2279-3520']\n",
    "})\n",
    "\n",
    "for idx, row in df_test.iterrows():\n",
    "    df_test['parsed_ceps'].iloc[idx] = row['parsed_ceps'].replace('-', '')\n",
    "    print(row.iloc[0])\n",
    "df_test"
   ]
  },
  {
   "cell_type": "markdown",
   "id": "fe20a8f7",
   "metadata": {},
   "source": [
    "# aqui"
   ]
  },
  {
   "cell_type": "code",
   "execution_count": 35,
   "id": "e4453dca",
   "metadata": {},
   "outputs": [
    {
     "name": "stdout",
     "output_type": "stream",
     "text": [
      "parsed_ceps    2279-3520\n",
      "Name: 0, dtype: object\n",
      "{'cep': '22793520',\n",
      " 'city': 'Rio de Janeiro',\n",
      " 'neighborhood': 'Barra da Tijuca',\n",
      " 'service': 'open-cep',\n",
      " 'state': 'RJ',\n",
      " 'street': 'Rua Ataulpho Coutinho'}\n",
      "DFGDGHFSGFHGFHDSGFHGDFHDGHD\n",
      "parsed_ceps    2279-3520\n",
      "Name: 2, dtype: object\n",
      "{'cep': '22793520',\n",
      " 'city': 'Rio de Janeiro',\n",
      " 'neighborhood': 'Barra da Tijuca',\n",
      " 'service': 'open-cep',\n",
      " 'state': 'RJ',\n",
      " 'street': 'Rua Ataulpho Coutinho'}\n"
     ]
    }
   ],
   "source": [
    "import pandas as pd\n",
    "from time import sleep\n",
    "import requests\n",
    "from pprint import pprint\n",
    "\n",
    "url = 'https://brasilapi.com.br/api/cep/v1/{cep}'\n",
    "df_test = pd.DataFrame({\n",
    "    'parsed_ceps': ['2279-3520', '2-279352', '2279-3520']\n",
    "})\n",
    "\n",
    "for idx, row in df_test.iterrows():\n",
    "    parsed_url = url.replace('{cep}', row['parsed_ceps'])\n",
    "    get_cep = requests.get(parsed_url).json()\n",
    "    if get_cep.get('errors') == None:\n",
    "        pprint(get_cep, '\\n')\n",
    "    else:\n",
    "        print('DFGDGHFSGFHGFHDSGFHGDFHDGHD\\n')\n",
    "    sleep(2)\n",
    "\n"
   ]
  },
  {
   "cell_type": "code",
   "execution_count": 95,
   "id": "c5f63cee",
   "metadata": {},
   "outputs": [
    {
     "name": "stderr",
     "output_type": "stream",
     "text": [
      "\r100%|██████████| 3/3 [00:05<00:00,  1.99s/it]"
     ]
    },
    {
     "name": "stdout",
     "output_type": "stream",
     "text": [
      "parsed_ceps    22793520\n",
      "Name: 2, dtype: object\n",
      "+--------------------+---------------------+\n",
      "|   brasilapi1_df_ok |   brasilapi1_df_nok |\n",
      "|--------------------+---------------------|\n",
      "|                  2 |                   1 |\n",
      "+--------------------+---------------------+\n"
     ]
    },
    {
     "name": "stderr",
     "output_type": "stream",
     "text": [
      "100%|██████████| 3/3 [00:07<00:00,  2.46s/it]\n"
     ]
    },
    {
     "data": {
      "application/vnd.microsoft.datawrangler.viewer.v0+json": {
       "columns": [
        {
         "name": "index",
         "rawType": "int64",
         "type": "integer"
        },
        {
         "name": "parsed_ceps",
         "rawType": "object",
         "type": "string"
        }
       ],
       "ref": "9fbee278-0b55-4f14-9ec1-158ba507b2ec",
       "rows": [
        [
         "0",
         "22793520"
        ],
        [
         "1",
         "2279352"
        ],
        [
         "2",
         "22793520"
        ]
       ],
       "shape": {
        "columns": 1,
        "rows": 3
       }
      },
      "text/html": [
       "<div>\n",
       "<style scoped>\n",
       "    .dataframe tbody tr th:only-of-type {\n",
       "        vertical-align: middle;\n",
       "    }\n",
       "\n",
       "    .dataframe tbody tr th {\n",
       "        vertical-align: top;\n",
       "    }\n",
       "\n",
       "    .dataframe thead th {\n",
       "        text-align: right;\n",
       "    }\n",
       "</style>\n",
       "<table border=\"1\" class=\"dataframe\">\n",
       "  <thead>\n",
       "    <tr style=\"text-align: right;\">\n",
       "      <th></th>\n",
       "      <th>parsed_ceps</th>\n",
       "    </tr>\n",
       "  </thead>\n",
       "  <tbody>\n",
       "    <tr>\n",
       "      <th>0</th>\n",
       "      <td>22793520</td>\n",
       "    </tr>\n",
       "    <tr>\n",
       "      <th>1</th>\n",
       "      <td>2279352</td>\n",
       "    </tr>\n",
       "    <tr>\n",
       "      <th>2</th>\n",
       "      <td>22793520</td>\n",
       "    </tr>\n",
       "  </tbody>\n",
       "</table>\n",
       "</div>"
      ],
      "text/plain": [
       "  parsed_ceps\n",
       "0    22793520\n",
       "1     2279352\n",
       "2    22793520"
      ]
     },
     "execution_count": 95,
     "metadata": {},
     "output_type": "execute_result"
    }
   ],
   "source": [
    "# brasilapi v1\n",
    "brasilapi1_df = pd.DataFrame({\n",
    "    'brasilapi_cep': [],\n",
    "    'brasilapi_state': [],\n",
    "    'brasilapi_city': [],\n",
    "    'brasilapi_neighborhood': [],\n",
    "    'brasilapi_street': [],\n",
    "    'brasilapi_service': [],\n",
    "})\n",
    "brasilapi1_df_logs = pd.DataFrame({\n",
    "    'ok': [0],\n",
    "    'nok': [0]\n",
    "})\n",
    "\n",
    "df_test = pd.DataFrame({\n",
    "    'parsed_ceps': ['22793520', '2279352', '22793520']\n",
    "})\n",
    "with tqdm(total=len(df_test)) as pbar:\n",
    "    for idx, row in df_test.head(5).iterrows():\n",
    "        \n",
    "        clear_output(wait=True)\n",
    "        replace_cep = row['parsed_ceps']\n",
    "        get_cep = requests.get(f'https://brasilapi.com.br/api/cep/v1/{replace_cep}').json()\n",
    "        \n",
    "        if get_cep.get('cep'):\n",
    "            print(row)\n",
    "            brasilapi1_df.loc[idx,'brasilapi_cep'] = get_cep.get('cep')\n",
    "            brasilapi1_df.loc[idx,'brasilapi_state'] = get_cep.get('state')\n",
    "            brasilapi1_df.loc[idx,'brasilapi_city'] = get_cep.get('city')\n",
    "            brasilapi1_df.loc[idx,'brasilapi_neighborhood'] = get_cep.get('neighborhood')\n",
    "            brasilapi1_df.loc[idx,'brasilapi_street'] = get_cep.get('street')\n",
    "            brasilapi1_df.loc[idx,'brasilapi_service'] = get_cep.get('service')\n",
    "            brasilapi1_df_logs.loc[0,'ok'] += 1\n",
    "        else:\n",
    "            brasilapi1_df_logs.loc[0,'nok'] += 1\n",
    "        \n",
    "        print(tabulate(brasilapi1_df_logs, headers='keys', tablefmt='psql', showindex=False))\n",
    "        pbar.update()\n",
    "        sleep(2)\n",
    "df_test"
   ]
  },
  {
   "cell_type": "code",
   "execution_count": 96,
   "id": "27da3aea",
   "metadata": {},
   "outputs": [
    {
     "data": {
      "application/vnd.microsoft.datawrangler.viewer.v0+json": {
       "columns": [
        {
         "name": "index",
         "rawType": "int64",
         "type": "integer"
        },
        {
         "name": "brasilapi_cep",
         "rawType": "object",
         "type": "string"
        },
        {
         "name": "brasilapi_state",
         "rawType": "object",
         "type": "string"
        },
        {
         "name": "brasilapi_city",
         "rawType": "object",
         "type": "string"
        },
        {
         "name": "brasilapi_neighborhood",
         "rawType": "object",
         "type": "string"
        },
        {
         "name": "brasilapi_street",
         "rawType": "object",
         "type": "string"
        },
        {
         "name": "brasilapi_service",
         "rawType": "object",
         "type": "string"
        }
       ],
       "ref": "2c0e64c9-162a-4b1f-9299-b92019f7307c",
       "rows": [
        [
         "0",
         "22793520",
         "RJ",
         "Rio de Janeiro",
         "Barra da Tijuca",
         "Rua Ataulpho Coutinho",
         "open-cep"
        ],
        [
         "2",
         "22793520",
         "RJ",
         "Rio de Janeiro",
         "Barra da Tijuca",
         "Rua Ataulpho Coutinho",
         "open-cep"
        ]
       ],
       "shape": {
        "columns": 6,
        "rows": 2
       }
      },
      "text/html": [
       "<div>\n",
       "<style scoped>\n",
       "    .dataframe tbody tr th:only-of-type {\n",
       "        vertical-align: middle;\n",
       "    }\n",
       "\n",
       "    .dataframe tbody tr th {\n",
       "        vertical-align: top;\n",
       "    }\n",
       "\n",
       "    .dataframe thead th {\n",
       "        text-align: right;\n",
       "    }\n",
       "</style>\n",
       "<table border=\"1\" class=\"dataframe\">\n",
       "  <thead>\n",
       "    <tr style=\"text-align: right;\">\n",
       "      <th></th>\n",
       "      <th>brasilapi_cep</th>\n",
       "      <th>brasilapi_state</th>\n",
       "      <th>brasilapi_city</th>\n",
       "      <th>brasilapi_neighborhood</th>\n",
       "      <th>brasilapi_street</th>\n",
       "      <th>brasilapi_service</th>\n",
       "    </tr>\n",
       "  </thead>\n",
       "  <tbody>\n",
       "    <tr>\n",
       "      <th>0</th>\n",
       "      <td>22793520</td>\n",
       "      <td>RJ</td>\n",
       "      <td>Rio de Janeiro</td>\n",
       "      <td>Barra da Tijuca</td>\n",
       "      <td>Rua Ataulpho Coutinho</td>\n",
       "      <td>open-cep</td>\n",
       "    </tr>\n",
       "    <tr>\n",
       "      <th>2</th>\n",
       "      <td>22793520</td>\n",
       "      <td>RJ</td>\n",
       "      <td>Rio de Janeiro</td>\n",
       "      <td>Barra da Tijuca</td>\n",
       "      <td>Rua Ataulpho Coutinho</td>\n",
       "      <td>open-cep</td>\n",
       "    </tr>\n",
       "  </tbody>\n",
       "</table>\n",
       "</div>"
      ],
      "text/plain": [
       "  brasilapi_cep brasilapi_state  brasilapi_city brasilapi_neighborhood  \\\n",
       "0      22793520              RJ  Rio de Janeiro        Barra da Tijuca   \n",
       "2      22793520              RJ  Rio de Janeiro        Barra da Tijuca   \n",
       "\n",
       "        brasilapi_street brasilapi_service  \n",
       "0  Rua Ataulpho Coutinho          open-cep  \n",
       "2  Rua Ataulpho Coutinho          open-cep  "
      ]
     },
     "execution_count": 96,
     "metadata": {},
     "output_type": "execute_result"
    }
   ],
   "source": [
    "brasilapi1_df"
   ]
  },
  {
   "cell_type": "code",
   "execution_count": 35,
   "id": "f9d355b4",
   "metadata": {},
   "outputs": [
    {
     "name": "stdout",
     "output_type": "stream",
     "text": [
      "{'errors': [{'message': 'CEP informado possui mais do que 8 caracteres.',\n",
      "             'service': 'cep_validation'}],\n",
      " 'message': 'CEP deve conter exatamente 8 caracteres.',\n",
      " 'name': 'CepPromiseError',\n",
      " 'type': 'validation_error'}\n"
     ]
    }
   ],
   "source": [
    "# brasilapi v2\n",
    "df_test = pd.DataFrame({\n",
    "    'parsed_ceps': ['22793520', '2279352', '22793520']\n",
    "})\n",
    "for idx, row in df_test.head(5).iterrows():\n",
    "    replace_cep = row['parsed_ceps']\n",
    "    print(f'https://viacep.com.br/ws/{replace_cep}/json/')\n",
    "    get_cep = requests.get(f'https://brasilapi.com.br/api/cep/v2/{replace_cep}').json()\n",
    "    pprint(get_cep)"
   ]
  },
  {
   "cell_type": "code",
   "execution_count": 43,
   "id": "94091e35",
   "metadata": {},
   "outputs": [
    {
     "name": "stdout",
     "output_type": "stream",
     "text": [
      "https://viacep.com.br/ws/22793520/json/\n",
      "{'bairro': 'Barra da Tijuca',\n",
      " 'cep': '22793-520',\n",
      " 'complemento': '',\n",
      " 'ddd': '21',\n",
      " 'estado': 'Rio de Janeiro',\n",
      " 'gia': '',\n",
      " 'ibge': '3304557',\n",
      " 'localidade': 'Rio de Janeiro',\n",
      " 'logradouro': 'Rua Ataulpho Coutinho',\n",
      " 'regiao': 'Sudeste',\n",
      " 'siafi': '6001',\n",
      " 'uf': 'RJ',\n",
      " 'unidade': ''}\n",
      "https://viacep.com.br/ws/22793520/json/\n",
      "{'bairro': 'Barra da Tijuca',\n",
      " 'cep': '22793-520',\n",
      " 'complemento': '',\n",
      " 'ddd': '21',\n",
      " 'estado': 'Rio de Janeiro',\n",
      " 'gia': '',\n",
      " 'ibge': '3304557',\n",
      " 'localidade': 'Rio de Janeiro',\n",
      " 'logradouro': 'Rua Ataulpho Coutinho',\n",
      " 'regiao': 'Sudeste',\n",
      " 'siafi': '6001',\n",
      " 'uf': 'RJ',\n",
      " 'unidade': ''}\n"
     ]
    }
   ],
   "source": [
    "# viacep\n",
    "df_test = pd.DataFrame({\n",
    "    'parsed_ceps': ['22793520', '2279352', '22793520']\n",
    "})\n",
    "try:\n",
    "    for idx, row in df_test.head(5).iterrows():\n",
    "        replace_cep = row['parsed_ceps']\n",
    "        print(f'https://viacep.com.br/ws/{replace_cep}/json/')\n",
    "        get_cep = requests.get(f'https://viacep.com.br/ws/{replace_cep}/json/').json()\n",
    "        pprint(get_cep)\n",
    "except Exception as e:\n",
    "    print(e.args[0])"
   ]
  },
  {
   "cell_type": "code",
   "execution_count": 41,
   "id": "90563bb8",
   "metadata": {},
   "outputs": [
    {
     "name": "stdout",
     "output_type": "stream",
     "text": [
      "{'code': 'not_found',\n",
      " 'message': 'File with such name does not exist.',\n",
      " 'status': 404}\n"
     ]
    }
   ],
   "source": [
    "# apicep\n",
    "df_test = pd.DataFrame({\n",
    "    'parsed_ceps': ['22793520', '2279352', '22793520']\n",
    "})\n",
    "for idx, row in df_test.head(5).iterrows():\n",
    "    replace_cep = row['parsed_ceps']\n",
    "    get_cep = requests.get(f'https://cdn.apicep.com/file/apicep/{replace_cep}.json').json()\n",
    "    pprint(get_cep)"
   ]
  },
  {
   "cell_type": "markdown",
   "id": "78e07929",
   "metadata": {},
   "source": [
    "**brasilapi v1** -> https://brasilapi.com.br/api/cep/v1/2279352\n",
    "```json\n",
    "{'errors': [{'message': 'CEP informado possui mais do que 8 caracteres.',\n",
    "             'service': 'cep_validation'}],\n",
    " 'message': 'CEP deve conter exatamente 8 caracteres.',\n",
    " 'name': 'CepPromiseError',\n",
    " 'type': 'validation_error'}\n",
    "```\n",
    "\n",
    "**brasilapi v2** -> 'https://brasilapi.com.br/api/cep/v2/2279352'\n",
    "```json\n",
    "{'errors': [{'message': 'CEP informado possui mais do que 8 caracteres.',\n",
    "             'service': 'cep_validation'}],\n",
    " 'message': 'CEP deve conter exatamente 8 caracteres.',\n",
    " 'name': 'CepPromiseError',\n",
    " 'type': 'validation_error'}\n",
    "```\n",
    "\n",
    "**viacep** -> 'https://viacep.com.br/ws/2279352/json/'\n",
    "```error\n",
    "JSONDecodeError: Expecting value: line 1 column 1 (char 0)\n",
    "```\n",
    "\n",
    "**apicep** -> 'https://cdn.apicep.com/file/apicep/2279352.json'\n",
    "```json\n",
    "{'code': 'not_found',\n",
    " 'message': 'File with such name does not exist.',\n",
    " 'status': 404}\n",
    "```"
   ]
  }
 ],
 "metadata": {
  "kernelspec": {
   "display_name": "Python 3",
   "language": "python",
   "name": "python3"
  },
  "language_info": {
   "codemirror_mode": {
    "name": "ipython",
    "version": 3
   },
   "file_extension": ".py",
   "mimetype": "text/x-python",
   "name": "python",
   "nbconvert_exporter": "python",
   "pygments_lexer": "ipython3",
   "version": "3.11.5"
  }
 },
 "nbformat": 4,
 "nbformat_minor": 5
}
